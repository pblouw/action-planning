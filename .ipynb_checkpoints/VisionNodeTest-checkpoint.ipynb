{
 "cells": [
  {
   "cell_type": "code",
   "execution_count": 3,
   "metadata": {
    "collapsed": false
   },
   "outputs": [
    {
     "name": "stdout",
     "output_type": "stream",
     "text": [
      "WATER\n",
      "{'TEMPERATURE': 'COLD'}\n",
      "------------------\n",
      "KETTLE\n",
      "{'PLUGGED': 'UNPLUGGED'}\n",
      "UNDER-TAP\n",
      "------------------\n",
      "TAP\n",
      "{'OFFON': 'OFF'}\n",
      "------------------\n",
      "COUNTER\n",
      "{}\n",
      "------------------\n",
      "1.0\n"
     ]
    },
    {
     "data": {
      "text/plain": [
       "1"
      ]
     },
     "execution_count": 3,
     "metadata": {},
     "output_type": "execute_result"
    }
   ],
   "source": [
    "import numpy as np\n",
    "import nengo\n",
    "import nengo.spa as spa\n",
    "import world\n",
    "import kitchen\n",
    "import nodes\n",
    "\n",
    "import matplotlib.pyplot as plt\n",
    "%matplotlib inline\n",
    "\n",
    "D = 128\n",
    "\n",
    "precons = ['KETTLE_UNDER_TAP','KETTLE_UNPLUGGED']\n",
    "precon_vocab = spa.Vocabulary(D)\n",
    "\n",
    "for precon in precons:\n",
    "    precon_vocab.parse(precon)  \n",
    "\n",
    "test_world = kitchen.get_kitchen()\n",
    "test_world.do('KETTLE','UNPLUG_KETTLE')\n",
    "test_world.do('KETTLE','PUT_KETTLE_UNDER_TAP')\n",
    "test_world.print_state()\n",
    "\n",
    "vision_sys = nodes.VisualSystem(precon_vocab, test_world)\n",
    "\n",
    "vision_sys.sense(200, precon_vocab['KETTLE_UNPLUGGED'])"
   ]
  },
  {
   "cell_type": "code",
   "execution_count": null,
   "metadata": {
    "collapsed": true
   },
   "outputs": [],
   "source": []
  }
 ],
 "metadata": {
  "kernelspec": {
   "display_name": "Python 2",
   "language": "python",
   "name": "python2"
  },
  "language_info": {
   "codemirror_mode": {
    "name": "ipython",
    "version": 2
   },
   "file_extension": ".py",
   "mimetype": "text/x-python",
   "name": "python",
   "nbconvert_exporter": "python",
   "pygments_lexer": "ipython2",
   "version": "2.7.11"
  }
 },
 "nbformat": 4,
 "nbformat_minor": 0
}
