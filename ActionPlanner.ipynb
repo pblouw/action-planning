{
 "cells": [
  {
   "cell_type": "markdown",
   "metadata": {},
   "source": [
    "## Action Planning with HRRs in a Nengo Model\n",
    "This a notebook for cataloguing work towards a model that is able to plan, given some overall goal, a series of actions that bring about the goal. To start, we define a couple of vocabularies that contain representations of the possible action effects, actions, and action preconditions. Overall goals are generally action effects, and intermediate goals are generally action preconditions. "
   ]
  },
  {
   "cell_type": "code",
   "execution_count": 136,
   "metadata": {
    "collapsed": true
   },
   "outputs": [],
   "source": [
    "import numpy as np\n",
    "import nengo \n",
    "from nengo import spa\n",
    "import matplotlib.pyplot as plt\n",
    "%matplotlib inline\n",
    "\n",
    "model = spa.SPA(label='Effect Cleanup Test')\n",
    "\n",
    "D = 128\n",
    "\n",
    "vocab = spa.Vocabulary(D)\n",
    "\n",
    "# Cycle of control signals\n",
    "cycle_items = ['GET_ACTION','GET_PRECON','SET_GOAL']\n",
    "cycle_vocab = spa.Vocabulary(D)\n",
    "\n",
    "for item in cycle_items:\n",
    "    cycle_vocab.parse(item)\n",
    "\n",
    "\n",
    "effects = ['WATER_IN_KETTLE', 'KETTLE_UNDER_TAP', 'WATER_BOILED', 'KETTLE_PLUGGED_IN', 'KETTLE_UNPLUGGED']\n",
    "actions = ['FILL_KETTLE_FROM_TAP', 'PUT_KETTLE_UNDER_TAP', 'BOIL_KETTLE', 'PLUG_IN_KETTLE','UNPLUG_KETTLE']\n",
    "precons = ['KETTLE_UNDER_TAP','KETTLE_UNPLUGGED','WATER_IN_KETTLE','HAS_CORD']"
   ]
  },
  {
   "cell_type": "code",
   "execution_count": 143,
   "metadata": {
    "collapsed": true
   },
   "outputs": [],
   "source": [
    "def plot_results(sim):\n",
    "    fig = plt.figure(figsize=(16,8))\n",
    "    NUM_COLORS = 15\n",
    "    cm = plt.get_cmap('nipy_spectral')\n",
    "\n",
    "    p1 = fig.add_subplot(4,1,1)\n",
    "    p1.plot(sim.trange(), model.similarity(sim.data, goal_probe))\n",
    "    p1.set_ylabel('Goal')\n",
    "\n",
    "    p2 = fig.add_subplot(4,1,2)\n",
    "    p2.plot(sim.trange(), model.similarity(sim.data, plan_probe))\n",
    "    p2.legend(model.get_output_vocab('ctrl_sig').keys, fontsize='medium')\n",
    "    p2.set_ylabel('Control Signal')\n",
    "\n",
    "    p3 = fig.add_subplot(4,1,3)\n",
    "    p3.plot(sim.trange(), model.similarity(sim.data, action_probe))\n",
    "    p3.set_ylabel('Actions')\n",
    "\n",
    "    p4 = fig.add_subplot(4,1,4)\n",
    "    p4.plot(sim.trange(), model.similarity(sim.data, precon_probe))\n",
    "    p4.legend(model.get_output_vocab('goal').keys, fontsize='medium', bbox_to_anchor=(1, -0.2), ncol=6)\n",
    "    p4.set_color_cycle([cm(1.*i/NUM_COLORS) for i in range(NUM_COLORS)])\n",
    "    p4.set_ylabel('Preconditions')\n",
    "\n",
    "    fig.subplots_adjust(hspace=0.2)\n",
    "    plt.show()"
   ]
  },
  {
   "cell_type": "markdown",
   "metadata": {},
   "source": [
    "Now we can define a nengo model that implements the planning. To start, we'll just implement a model that generates a sequence of subgoals given an overall goal, by iteratively inferring the preconditions of the actions that bring about the most recent subgoal in the sequence."
   ]
  },
  {
   "cell_type": "code",
   "execution_count": 138,
   "metadata": {
    "collapsed": false
   },
   "outputs": [],
   "source": [
    "with model:\n",
    "\n",
    "    # Generate sequence of goals to push to stack\n",
    "    model.ctrl_sig = spa.Memory(dimensions=D, vocab=cycle_vocab, synapse=0.01, tau=0.06) \n",
    "    model.goal = spa.Memory(dimensions=D, vocab=vocab, synapse=0.01, tau=0.05)\n",
    "    model.action = spa.Memory(dimensions=D, vocab=vocab, synapse=0.01, tau=0.05)\n",
    "    model.precon = spa.Memory(dimensions=D, vocab=vocab, synapse=0.01, tau=0.05)\n",
    "\n",
    "    model.action_to_precon = spa.AssociativeMemory(input_vocab=vocab, output_vocab=vocab, \n",
    "                                                 input_keys=actions[:4], output_keys=precons, \n",
    "                                                 threshold=0.3)\n",
    "    \n",
    "    model.goal_to_action = spa.AssociativeMemory(input_vocab=vocab, output_vocab=vocab, \n",
    "                                                   input_keys=effects, output_keys=actions, \n",
    "                                                   threshold=0.3)\n",
    "\n",
    "    actions = spa.Actions(\n",
    "        'dot(ctrl_sig, GET_ACTION)  -->  goal_to_action=goal, ctrl_sig=GET_PRECON',\n",
    "        'dot(ctrl_sig, GET_PRECON)  -->  action_to_precon=action, ctrl_sig=SET_GOAL',\n",
    "        'dot(ctrl_sig, SET_GOAL)    -->  goal=precon, ctrl_sig=GET_ACTION')\n",
    "\n",
    "    model.bg = spa.BasalGanglia(actions)\n",
    "    model.thal = spa.Thalamus(model.bg)\n",
    "\n",
    "    def set_goal(t):\n",
    "        if 0.05 < t < 0.1: return 'WATER_BOILED'\n",
    "        else: return '0'\n",
    "\n",
    "    def set_plan(t):\n",
    "        if 0.1 < t < 0.15: return 'GET_ACTION'\n",
    "        else: return '0'\n",
    "\n",
    "    model.goal_inp = spa.Input(goal=set_goal)\n",
    "    model.plan_inp = spa.Input(ctrl_sig=set_plan)\n",
    "\n",
    "    nengo.Connection(model.action_to_precon.output, model.precon.state.input)\n",
    "    nengo.Connection(model.goal_to_action.output, model.action.state.input)\n",
    "\n",
    "    goal_probe = nengo.Probe(model.goal.state.output, synapse=0.03)\n",
    "    plan_probe = nengo.Probe(model.ctrl_sig.state.output, synapse=0.03)\n",
    "    action_probe = nengo.Probe(model.action.state.output, synapse=0.03)\n",
    "    precon_probe = nengo.Probe(model.precon.state.output, synapse=0.03)\n",
    "\n",
    "sim = nengo.Simulator(model)"
   ]
  },
  {
   "cell_type": "markdown",
   "metadata": {},
   "source": [
    "Here are some initial results. The representations plotted in the 'Actions' component of the graph will be pushed onto a stack in a more complete implementatino (to store the plan the model intends to execute). "
   ]
  },
  {
   "cell_type": "code",
   "execution_count": 145,
   "metadata": {
    "collapsed": false
   },
   "outputs": [
    {
     "ename": "ValueError",
     "evalue": "shapes (1,0) and (128,11) not aligned: 0 (dim 1) != 128 (dim 0)",
     "output_type": "error",
     "traceback": [
      "\u001b[0;31m---------------------------------------------------------------------------\u001b[0m",
      "\u001b[0;31mValueError\u001b[0m                                Traceback (most recent call last)",
      "\u001b[0;32m<ipython-input-145-1aff6e852fd1>\u001b[0m in \u001b[0;36m<module>\u001b[0;34m()\u001b[0m\n\u001b[1;32m      1\u001b[0m \u001b[0msim\u001b[0m\u001b[0;34m.\u001b[0m\u001b[0mreset\u001b[0m\u001b[0;34m(\u001b[0m\u001b[0;34m)\u001b[0m\u001b[0;34m\u001b[0m\u001b[0m\n\u001b[0;32m----> 2\u001b[0;31m \u001b[0mplot_results\u001b[0m\u001b[0;34m(\u001b[0m\u001b[0msim\u001b[0m\u001b[0;34m)\u001b[0m\u001b[0;34m\u001b[0m\u001b[0m\n\u001b[0m",
      "\u001b[0;32m<ipython-input-143-02bdae245629>\u001b[0m in \u001b[0;36mplot_results\u001b[0;34m(sim)\u001b[0m\n\u001b[1;32m      5\u001b[0m \u001b[0;34m\u001b[0m\u001b[0m\n\u001b[1;32m      6\u001b[0m     \u001b[0mp1\u001b[0m \u001b[0;34m=\u001b[0m \u001b[0mfig\u001b[0m\u001b[0;34m.\u001b[0m\u001b[0madd_subplot\u001b[0m\u001b[0;34m(\u001b[0m\u001b[0;36m4\u001b[0m\u001b[0;34m,\u001b[0m\u001b[0;36m1\u001b[0m\u001b[0;34m,\u001b[0m\u001b[0;36m1\u001b[0m\u001b[0;34m)\u001b[0m\u001b[0;34m\u001b[0m\u001b[0m\n\u001b[0;32m----> 7\u001b[0;31m     \u001b[0mp1\u001b[0m\u001b[0;34m.\u001b[0m\u001b[0mplot\u001b[0m\u001b[0;34m(\u001b[0m\u001b[0msim\u001b[0m\u001b[0;34m.\u001b[0m\u001b[0mtrange\u001b[0m\u001b[0;34m(\u001b[0m\u001b[0;34m)\u001b[0m\u001b[0;34m,\u001b[0m \u001b[0mmodel\u001b[0m\u001b[0;34m.\u001b[0m\u001b[0msimilarity\u001b[0m\u001b[0;34m(\u001b[0m\u001b[0msim\u001b[0m\u001b[0;34m.\u001b[0m\u001b[0mdata\u001b[0m\u001b[0;34m,\u001b[0m \u001b[0mgoal_probe\u001b[0m\u001b[0;34m)\u001b[0m\u001b[0;34m)\u001b[0m\u001b[0;34m\u001b[0m\u001b[0m\n\u001b[0m\u001b[1;32m      8\u001b[0m     \u001b[0mp1\u001b[0m\u001b[0;34m.\u001b[0m\u001b[0mset_ylabel\u001b[0m\u001b[0;34m(\u001b[0m\u001b[0;34m'Goal'\u001b[0m\u001b[0;34m)\u001b[0m\u001b[0;34m\u001b[0m\u001b[0m\n\u001b[1;32m      9\u001b[0m \u001b[0;34m\u001b[0m\u001b[0m\n",
      "\u001b[0;32m/Users/peterblouw/git/nengo/nengo/spa/spa.pyc\u001b[0m in \u001b[0;36msimilarity\u001b[0;34m(self, data, probe, vocab)\u001b[0m\n\u001b[1;32m    221\u001b[0m         \u001b[0;32mif\u001b[0m \u001b[0mvocab\u001b[0m \u001b[0;32mis\u001b[0m \u001b[0mNone\u001b[0m\u001b[0;34m:\u001b[0m\u001b[0;34m\u001b[0m\u001b[0m\n\u001b[1;32m    222\u001b[0m             \u001b[0mvocab\u001b[0m \u001b[0;34m=\u001b[0m \u001b[0mself\u001b[0m\u001b[0;34m.\u001b[0m\u001b[0mconfig\u001b[0m\u001b[0;34m[\u001b[0m\u001b[0mprobe\u001b[0m\u001b[0;34m.\u001b[0m\u001b[0mtarget\u001b[0m\u001b[0;34m]\u001b[0m\u001b[0;34m.\u001b[0m\u001b[0mvocab\u001b[0m\u001b[0;34m\u001b[0m\u001b[0m\n\u001b[0;32m--> 223\u001b[0;31m         \u001b[0;32mreturn\u001b[0m \u001b[0mnengo\u001b[0m\u001b[0;34m.\u001b[0m\u001b[0mspa\u001b[0m\u001b[0;34m.\u001b[0m\u001b[0msimilarity\u001b[0m\u001b[0;34m(\u001b[0m\u001b[0mdata\u001b[0m\u001b[0;34m[\u001b[0m\u001b[0mprobe\u001b[0m\u001b[0;34m]\u001b[0m\u001b[0;34m,\u001b[0m \u001b[0mvocab\u001b[0m\u001b[0;34m)\u001b[0m\u001b[0;34m\u001b[0m\u001b[0m\n\u001b[0m",
      "\u001b[0;32m/Users/peterblouw/git/nengo/nengo/spa/utils.pyc\u001b[0m in \u001b[0;36msimilarity\u001b[0;34m(data, vocab, normalize)\u001b[0m\n\u001b[1;32m     51\u001b[0m \u001b[0;34m\u001b[0m\u001b[0m\n\u001b[1;32m     52\u001b[0m     \u001b[0mdata\u001b[0m \u001b[0;34m=\u001b[0m \u001b[0mnp\u001b[0m\u001b[0;34m.\u001b[0m\u001b[0marray\u001b[0m\u001b[0;34m(\u001b[0m\u001b[0mdata\u001b[0m\u001b[0;34m,\u001b[0m \u001b[0mcopy\u001b[0m\u001b[0;34m=\u001b[0m\u001b[0mFalse\u001b[0m\u001b[0;34m,\u001b[0m \u001b[0mndmin\u001b[0m\u001b[0;34m=\u001b[0m\u001b[0;36m2\u001b[0m\u001b[0;34m)\u001b[0m\u001b[0;34m\u001b[0m\u001b[0m\n\u001b[0;32m---> 53\u001b[0;31m     \u001b[0mdots\u001b[0m \u001b[0;34m=\u001b[0m \u001b[0mnp\u001b[0m\u001b[0;34m.\u001b[0m\u001b[0mdot\u001b[0m\u001b[0;34m(\u001b[0m\u001b[0mdata\u001b[0m\u001b[0;34m,\u001b[0m \u001b[0mvectors\u001b[0m\u001b[0;34m.\u001b[0m\u001b[0mT\u001b[0m\u001b[0;34m)\u001b[0m\u001b[0;34m\u001b[0m\u001b[0m\n\u001b[0m\u001b[1;32m     54\u001b[0m \u001b[0;34m\u001b[0m\u001b[0m\n\u001b[1;32m     55\u001b[0m     \u001b[0;32mif\u001b[0m \u001b[0mnormalize\u001b[0m\u001b[0;34m:\u001b[0m\u001b[0;34m\u001b[0m\u001b[0m\n",
      "\u001b[0;31mValueError\u001b[0m: shapes (1,0) and (128,11) not aligned: 0 (dim 1) != 128 (dim 0)"
     ]
    },
    {
     "data": {
      "image/png": "[encoded data removed]",
      "text/plain": [
       "<matplotlib.figure.Figure at 0x10fc49b90>"
      ]
     },
     "metadata": {},
     "output_type": "display_data"
    }
   ],
   "source": [
    "sim.run(1)\n",
    "plot_results(sim)"
   ]
  },
  {
   "cell_type": "code",
   "execution_count": null,
   "metadata": {
    "collapsed": true
   },
   "outputs": [],
   "source": []
  }
 ],
 "metadata": {
  "kernelspec": {
   "display_name": "Python 2",
   "language": "python",
   "name": "python2"
  },
  "language_info": {
   "codemirror_mode": {
    "name": "ipython",
    "version": 2
   },
   "file_extension": ".py",
   "mimetype": "text/x-python",
   "name": "python",
   "nbconvert_exporter": "python",
   "pygments_lexer": "ipython2",
   "version": "2.7.11"
  }
 },
 "nbformat": 4,
 "nbformat_minor": 0
}
